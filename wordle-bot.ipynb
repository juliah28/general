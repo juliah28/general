{
 "cells": [
  {
   "cell_type": "code",
   "execution_count": 1,
   "id": "90304921-9439-4c27-8420-3ec34344bcb4",
   "metadata": {},
   "outputs": [],
   "source": [
    "# import modules, set up paths\n",
    "import os\n",
    "import numpy as np\n",
    "import random as rand\n",
    "from collections import Counter\n",
    "import matplotlib.pylab as plt\n",
    "\n",
    "base_path = \"/Users/juliahopkins/Desktop/classes/neusci 403/\" # won't run unless you download the wordlist.txt file and change to your path\n",
    "filename = \"wordlist.txt\"\n",
    "guesses_to_file = os.path.join(base_path, filename)\n",
    "\n",
    "filename = \"secrets.txt\"\n",
    "ans_to_file = os.path.join(base_path, filename)"
   ]
  },
  {
   "cell_type": "code",
   "execution_count": 2,
   "id": "bf6d573e-5e39-4f34-b5e6-15c68013d13a",
   "metadata": {},
   "outputs": [
    {
     "data": {
      "text/plain": [
       "[('e', 1233),\n",
       " ('a', 979),\n",
       " ('r', 899),\n",
       " ('o', 754),\n",
       " ('t', 729),\n",
       " ('l', 719),\n",
       " ('i', 671),\n",
       " ('s', 669),\n",
       " ('n', 575),\n",
       " ('c', 477),\n",
       " ('u', 467),\n",
       " ('y', 425),\n",
       " ('d', 393),\n",
       " ('h', 389),\n",
       " ('p', 367),\n",
       " ('m', 316),\n",
       " ('g', 311),\n",
       " ('b', 281),\n",
       " ('f', 230),\n",
       " ('k', 210),\n",
       " ('w', 195),\n",
       " ('v', 153),\n",
       " ('z', 40),\n",
       " ('x', 37),\n",
       " ('q', 29),\n",
       " ('j', 27)]"
      ]
     },
     "execution_count": 2,
     "metadata": {},
     "output_type": "execute_result"
    }
   ],
   "source": [
    "# calculate frequency of each letter in the ANSWERS wordlist3\n",
    "with open(ans_to_file) as text:\n",
    "    file = text.read()\n",
    "    \n",
    "c=Counter(file)\n",
    "del c['\\n']\n",
    "c.most_common()\n",
    "\n",
    "# most common are e,a,r,o,t; based on this, 'orate' is the best starting word\n",
    "    # implement location probability to find actual best word- probably \"later\" or something similar\n",
    "    "
   ]
  },
  {
   "cell_type": "code",
   "execution_count": 3,
   "id": "e03314ea-3e97-47ae-a7f3-290bce484db1",
   "metadata": {},
   "outputs": [],
   "source": [
    "# open file to read words rather than single letters\n",
    "with open(ans_to_file) as text:\n",
    "    anslist = text.readlines()\n",
    "\n",
    "with open(guesses_to_file) as text:\n",
    "    guesslist = text.readlines()"
   ]
  },
  {
   "cell_type": "code",
   "execution_count": 4,
   "id": "74abe756-9e66-4dc3-9074-60106a1a049e",
   "metadata": {},
   "outputs": [
    {
     "name": "stdout",
     "output_type": "stream",
     "text": [
      "[[141. 173. 198. 111.  72. 136. 115.  69.  34.  20.  20.  88. 107.  37.\n",
      "   41. 142.  23. 105. 366. 149.  33.  43.  83.   0.   6.   3.]\n",
      " [304.  16.  40.  20. 242.   8.  12. 144. 202.   2.  10. 201.  38.  87.\n",
      "  279.  61.   5. 267.  16.  77. 186.  15.  44.  14.  23.   2.]\n",
      " [307.  57.  56.  75. 177.  25.  67.   9. 266.   3.  12. 112.  61. 139.\n",
      "  244.  58.   1. 163.  80. 111. 165.  49.  26.  12.  29.  11.]\n",
      " [163.  24. 152.  69. 318.  35.  76.  28. 158.   2.  55. 162.  68. 182.\n",
      "  132.  50.   0. 152. 171. 139.  82.  46.  25.   3.   3.  20.]\n",
      " [ 64.  11.  31. 118. 424.  26.  41. 139.  11.   0. 113. 156.  42. 130.\n",
      "   58.  56.   0. 212.  36. 253.   1.   0.  17.   8. 364.   4.]]\n"
     ]
    }
   ],
   "source": [
    "# count how many times each letter occurs in each position\n",
    "# first convert answerlist from vector of words to matrix of letters, where columns are positions and rows are the words\n",
    "\n",
    "answerlist=np.zeros((len(anslist),5),dtype=str)\n",
    "\n",
    "for i in range(0,len(anslist)):\n",
    "    word=anslist[i]\n",
    "    letters = [word[0],word[1],word[2],word[3],word[4]]\n",
    "    answerlist[i,:]=letters\n",
    "\n",
    "# same for guesslist for use later\n",
    "    guesseslist=np.zeros((len(guesslist),5),dtype=str)\n",
    "\n",
    "for i in range(0,len(guesslist)):\n",
    "    word=guesslist[i]\n",
    "    letters = [word[0],word[1],word[2],word[3],word[4]]\n",
    "    guesseslist[i,:]=letters\n",
    "    \n",
    "# for loop running through each letter of the alphabet and each position, store counts in a 5x26 table\n",
    "\n",
    "alphabet=['a','b','c','d','e','f','g','h','i','j','k','l','m','n','o','p','q','r','s','t','u','v','w','x','y','z']\n",
    "posCounts=np.zeros((5,26))\n",
    "\n",
    "for pos in np.arange(0,5):\n",
    "    c=Counter(answerlist[:,pos])\n",
    "    \n",
    "    for let in np.arange(0,26):\n",
    "        letter=alphabet[let]\n",
    "        \n",
    "        count=c[letter]\n",
    "        posCounts[pos,let]=count\n",
    "        \n",
    "print(posCounts)"
   ]
  },
  {
   "cell_type": "code",
   "execution_count": 5,
   "id": "0795410d-e1fb-4ead-bac6-2a832218a949",
   "metadata": {},
   "outputs": [
    {
     "name": "stdout",
     "output_type": "stream",
     "text": [
      "1437.0\n",
      "1777\n",
      "slate\n",
      "\n"
     ]
    }
   ],
   "source": [
    "# finding the best starting word: score each word in the ans list based on the sum of its letters' positional counts in the answer list:\n",
    "\n",
    "WordScores=np.zeros(len(answerlist))\n",
    "\n",
    "for i in range(0,len(answerlist)):\n",
    "    word=answerlist[i,:]\n",
    "    wordscore=np.zeros(5)\n",
    "    \n",
    "    for p in np.arange(0,5):\n",
    "        letter=word[p]\n",
    "        \n",
    "        if letter=='a': # there's definitely a better way to do this but whatever\n",
    "            alphpos=0\n",
    "        elif letter=='b':\n",
    "            alphpos=1\n",
    "        elif letter=='c':\n",
    "            alphpos=2\n",
    "        elif letter=='d':\n",
    "            alphpos=3\n",
    "        elif letter=='e':\n",
    "            alphpos=4\n",
    "        elif letter=='f':\n",
    "            alphpos=5\n",
    "        elif letter=='g':\n",
    "            alphpos=6\n",
    "        elif letter=='h':\n",
    "            alphpos=7\n",
    "        elif letter=='i':\n",
    "            alphpos=8\n",
    "        elif letter=='j':\n",
    "            alphpos=9\n",
    "        elif letter=='k':\n",
    "            alphpos=10\n",
    "        elif letter=='l':\n",
    "            alphpos=11\n",
    "        elif letter=='m':\n",
    "            alphpos=12\n",
    "        elif letter=='n':\n",
    "            alphpos=13\n",
    "        elif letter=='o':\n",
    "            alphpos=14\n",
    "        elif letter=='p':\n",
    "            alphpos=15\n",
    "        elif letter=='q':\n",
    "            alphpos=16\n",
    "        elif letter=='r':\n",
    "            alphpos=17\n",
    "        elif letter=='s':\n",
    "            alphpos=18\n",
    "        elif letter=='t':\n",
    "            alphpos=19\n",
    "        elif letter=='u':\n",
    "            alphpos=20\n",
    "        elif letter=='v':\n",
    "            alphpos=21\n",
    "        elif letter=='w':\n",
    "            alphpos=22\n",
    "        elif letter=='x':\n",
    "            alphpos=23\n",
    "        elif letter=='y':\n",
    "            alphpos=24\n",
    "        else:\n",
    "            alphpos=25\n",
    "            \n",
    "        posscore=posCounts[p,alphpos]\n",
    "        wordscore[p]=posscore\n",
    "        \n",
    "    WordScore=np.sum(wordscore)\n",
    "    WordScores[i]=WordScore\n",
    "\n",
    "# what word has the highest score?\n",
    "print(np.max(WordScores))\n",
    "maxidx=np.where(WordScores==np.max(WordScores))\n",
    "maxidx=maxidx[0]\n",
    "maxidx=int(maxidx)\n",
    "print(maxidx)\n",
    "print(anslist[maxidx])"
   ]
  },
  {
   "cell_type": "code",
   "execution_count": 6,
   "id": "a9b40c12-9294-414e-a967-e1e354c47740",
   "metadata": {},
   "outputs": [],
   "source": [
    "# score each word in the GUESS list based on the sum of its letters' positional counts in the answer list:\n",
    "# want this to be a function to \n",
    "\n",
    "def posProbScores(guesslist):\n",
    "    \n",
    "    WordScores=np.zeros(len(guesslist))\n",
    "\n",
    "    for i in range(0,len(guesslist)):\n",
    "        word=guesslist[i]\n",
    "        word=convert_str(word)\n",
    "        wordscore=np.zeros(5)\n",
    "\n",
    "        for p in np.arange(0,5):\n",
    "            letter=word[p]\n",
    "\n",
    "            if letter=='a': # there's definitely a better way to do this but whatever\n",
    "                alphpos=0\n",
    "            elif letter=='b':\n",
    "                alphpos=1\n",
    "            elif letter=='c':\n",
    "                alphpos=2\n",
    "            elif letter=='d':\n",
    "                alphpos=3\n",
    "            elif letter=='e':\n",
    "                alphpos=4\n",
    "            elif letter=='f':\n",
    "                alphpos=5\n",
    "            elif letter=='g':\n",
    "                alphpos=6\n",
    "            elif letter=='h':\n",
    "                alphpos=7\n",
    "            elif letter=='i':\n",
    "                alphpos=8\n",
    "            elif letter=='j':\n",
    "                alphpos=9\n",
    "            elif letter=='k':\n",
    "                alphpos=10\n",
    "            elif letter=='l':\n",
    "                alphpos=11\n",
    "            elif letter=='m':\n",
    "                alphpos=12\n",
    "            elif letter=='n':\n",
    "                alphpos=13\n",
    "            elif letter=='o':\n",
    "                alphpos=14\n",
    "            elif letter=='p':\n",
    "                alphpos=15\n",
    "            elif letter=='q':\n",
    "                alphpos=16\n",
    "            elif letter=='r':\n",
    "                alphpos=17\n",
    "            elif letter=='s':\n",
    "                alphpos=18\n",
    "            elif letter=='t':\n",
    "                alphpos=19\n",
    "            elif letter=='u':\n",
    "                alphpos=20\n",
    "            elif letter=='v':\n",
    "                alphpos=21\n",
    "            elif letter=='w':\n",
    "                alphpos=22\n",
    "            elif letter=='x':\n",
    "                alphpos=23\n",
    "            elif letter=='y':\n",
    "                alphpos=24\n",
    "            else:\n",
    "                alphpos=25\n",
    "\n",
    "            posscore=posCounts[p,alphpos]\n",
    "            wordscore[p]=posscore\n",
    "\n",
    "        WordScore=np.sum(wordscore)\n",
    "        WordScores[i]=WordScore\n",
    "        \n",
    "    return WordScores\n"
   ]
  },
  {
   "cell_type": "code",
   "execution_count": 7,
   "id": "56d9b0f6-8c77-4ab2-bbdc-107f923e4596",
   "metadata": {},
   "outputs": [
    {
     "name": "stdout",
     "output_type": "stream",
     "text": [
      "tamer\n",
      "\n"
     ]
    }
   ],
   "source": [
    "# now to get the computer to pick a random answer  \n",
    "def convert_str(word):\n",
    "    word=[word[0],word[1],word[2],word[3],word[4]]\n",
    "    return word\n",
    "    \n",
    "ans=rand.choice(anslist)\n",
    "print(ans)\n",
    "ans=convert_str(ans)"
   ]
  },
  {
   "cell_type": "code",
   "execution_count": 8,
   "id": "0c36b27a-7382-4165-878b-6e169ee6c732",
   "metadata": {},
   "outputs": [],
   "source": [
    "# random attempt\n",
    "#guess = rand.choice(wordlist)\n",
    "#print(guess)\n",
    "#guess = convert_str(guess)"
   ]
  },
  {
   "cell_type": "code",
   "execution_count": 9,
   "id": "5f9e6cca-138b-48f1-bb0c-6e05ba57d353",
   "metadata": {},
   "outputs": [],
   "source": [
    "# visual word check\n",
    "def check_guess(guess):\n",
    "    for i in np.arange(0,5):\n",
    "        \n",
    "        if ans[i]==guess[i]:\n",
    "            print('\\033[92m', guess[i])\n",
    "\n",
    "        elif guess[i] in ans:\n",
    "            print('\\033[93m', guess[i])\n",
    "\n",
    "        else:\n",
    "            print('\\033[97m', guess[i])\n",
    "\n",
    "#check_guess(guess)"
   ]
  },
  {
   "cell_type": "code",
   "execution_count": 10,
   "id": "1836561a-3ffa-436a-a402-8d0585721a1a",
   "metadata": {},
   "outputs": [],
   "source": [
    "# word check that computer can understand\n",
    "def score_word(ans, guess):\n",
    "    score = [-1, -1, -1, -1, -1]\n",
    "    for i, w in enumerate(guess):\n",
    "        if w in ans:\n",
    "            if w == ans[i]:\n",
    "                score[i] = 1\n",
    "            else:\n",
    "                score[i] = 0\n",
    "    return score\n",
    "\n",
    "#score=score_word(ans,guess)\n",
    "#print(score)"
   ]
  },
  {
   "cell_type": "code",
   "execution_count": 11,
   "id": "767c85c7-865a-4095-b878-3a76fb934b31",
   "metadata": {},
   "outputs": [],
   "source": [
    "# remove ineligible words\n",
    "def remove_words(score, guess, guesslist):\n",
    "    to_remove = []\n",
    "    for i, word in enumerate(guesslist):\n",
    "        for s, w1, w2 in zip(score, word, guess):\n",
    "            if s == 1:\n",
    "                if w1 != w2:\n",
    "                    to_remove.append(word)\n",
    "                    break\n",
    "            elif s == -1:\n",
    "                if w2 in word:\n",
    "                    to_remove.append(word)\n",
    "                    break\n",
    "            elif s == 0:\n",
    "                if w1 == w2:\n",
    "                    to_remove.append(word)\n",
    "                    break\n",
    "                elif w2 not in word:\n",
    "                    to_remove.append(word)\n",
    "                    break\n",
    "    guesslist = list(set(guesslist) - set(to_remove))\n",
    "    return guesslist"
   ]
  },
  {
   "cell_type": "code",
   "execution_count": 12,
   "id": "d9281c0d-3ef9-46cb-b47b-5dc7b74148e7",
   "metadata": {},
   "outputs": [],
   "source": [
    "#remove_words(score,guess,wordlist)"
   ]
  },
  {
   "cell_type": "code",
   "execution_count": 13,
   "id": "2da5fd4f-a014-430a-aa4a-10d24e810ba3",
   "metadata": {},
   "outputs": [],
   "source": [
    "# all together:\n",
    "\n",
    "def wordle(guesslist):\n",
    "    tries = 1\n",
    "    score = [-1, -1, -1, -1, -1]\n",
    "    \n",
    "    for i in np.arange(0,20):\n",
    "        \n",
    "        guess = np.random.choice(guesslist)\n",
    "        score = score_word(ans, guess)\n",
    "        \n",
    "        if score != [1, 1, 1, 1, 1]:\n",
    "            tries += 1\n",
    "            guesslist = remove_words(score, guess, guesslist)\n",
    "            \n",
    "        elif score == [1, 1, 1, 1, 1]:\n",
    "            guesslist = remove_words(score, guess, guesslist)\n",
    "            return tries, guesslist\n",
    "            break\n",
    "                "
   ]
  },
  {
   "cell_type": "code",
   "execution_count": 14,
   "id": "b7f7c878-f0c7-4cf1-95d6-01e50aa8f3e9",
   "metadata": {},
   "outputs": [],
   "source": [
    "# play wordle 600x with completely random guessing schema:\n",
    "\n",
    "tries_rand=np.zeros(600)\n",
    "\n",
    "for i in np.arange(0,600):\n",
    "    \n",
    "    ans=rand.choice(anslist)\n",
    "    ans=convert_str(ans)\n",
    "\n",
    "    [numtry, answer]=wordle(guesslist)\n",
    "\n",
    "    tries_rand[i]=numtry\n"
   ]
  },
  {
   "cell_type": "code",
   "execution_count": 15,
   "id": "3260f5fd-c46e-42a4-b411-5028253113ae",
   "metadata": {},
   "outputs": [],
   "source": [
    "# now with orate as the first guess:\n",
    "\n",
    "def wordle(guesslist):\n",
    "    tries = 1\n",
    "    score = [-1, -1, -1, -1, -1]\n",
    "    \n",
    "    for i in np.arange(0,20):\n",
    "        \n",
    "        if i==0:\n",
    "            guess=\"orate\"\n",
    "        else:\n",
    "            guess = np.random.choice(guesslist)\n",
    "        \n",
    "        score = score_word(ans, guess)\n",
    "        \n",
    "        if score != [1, 1, 1, 1, 1]:\n",
    "            tries += 1\n",
    "            guesslist = remove_words(score, guess, guesslist)\n",
    "            \n",
    "        elif score == [1, 1, 1, 1, 1]:\n",
    "            guesslist = remove_words(score, guess, guesslist)\n",
    "            return tries, guesslist\n",
    "            break"
   ]
  },
  {
   "cell_type": "code",
   "execution_count": 16,
   "id": "a956dfbe-0c12-4569-8fa6-de7d6593715f",
   "metadata": {},
   "outputs": [
    {
     "name": "stdout",
     "output_type": "stream",
     "text": [
      "4.785\n"
     ]
    },
    {
     "data": {
      "image/png": "[encoded data removed]",
      "text/plain": [
       "<Figure size 432x288 with 1 Axes>"
      ]
     },
     "metadata": {
      "needs_background": "light"
     },
     "output_type": "display_data"
    }
   ],
   "source": [
    "tries=np.zeros(600)\n",
    "for i in np.arange(0,600):\n",
    "    \n",
    "    ans=rand.choice(anslist)\n",
    "    ans=convert_str(ans)\n",
    "\n",
    "    [numtry, answer]=wordle(guesslist)\n",
    "\n",
    "    tries[i]=numtry\n",
    "\n",
    "\n",
    "plt.hist(tries)\n",
    "plt.vlines(np.mean(tries),0,200,color='black',label='Mean')\n",
    "plt.title('Number of tries to solve Wordle with first guess \"orate\"')\n",
    "print(np.mean(tries))"
   ]
  },
  {
   "cell_type": "code",
   "execution_count": 17,
   "id": "987a66e8-0a3c-4e0d-872e-8ddd5621650b",
   "metadata": {},
   "outputs": [],
   "source": [
    "# now with slate as the first guess:\n",
    "\n",
    "def wordle(guesslist):\n",
    "    tries = 1\n",
    "    score = [-1, -1, -1, -1, -1]\n",
    "    \n",
    "    for i in np.arange(0,20):\n",
    "        \n",
    "        if i==0:\n",
    "            guess=\"slate\"\n",
    "        else:\n",
    "            guess = np.random.choice(guesslist)\n",
    "        \n",
    "        score = score_word(ans, guess)\n",
    "        \n",
    "        if score != [1, 1, 1, 1, 1]:\n",
    "            tries += 1\n",
    "            guesslist = remove_words(score, guess, guesslist)\n",
    "            \n",
    "        elif score == [1, 1, 1, 1, 1]:\n",
    "            guesslist = remove_words(score, guess, guesslist)\n",
    "            return tries, guesslist\n",
    "            break"
   ]
  },
  {
   "cell_type": "code",
   "execution_count": 18,
   "id": "e89c2e79-9c0c-4fc1-acf8-81b90a353c41",
   "metadata": {},
   "outputs": [
    {
     "name": "stdout",
     "output_type": "stream",
     "text": [
      "4.841666666666667\n"
     ]
    },
    {
     "data": {
      "image/png": "[encoded data removed]",
      "text/plain": [
       "<Figure size 432x288 with 1 Axes>"
      ]
     },
     "metadata": {
      "needs_background": "light"
     },
     "output_type": "display_data"
    }
   ],
   "source": [
    "for i in np.arange(0,600):\n",
    "    \n",
    "    ans=rand.choice(anslist)\n",
    "    ans=convert_str(ans)\n",
    "\n",
    "    [numtry, answer]=wordle(guesslist)\n",
    "\n",
    "    tries[i]=numtry\n",
    "\n",
    "\n",
    "plt.hist(tries)\n",
    "plt.vlines(np.mean(tries),0,200,color='black',label='Mean')\n",
    "plt.title('Number of tries to solve Wordle with first guess \"slate\"')\n",
    "print(np.mean(tries))"
   ]
  },
  {
   "cell_type": "code",
   "execution_count": 19,
   "id": "814574f3-34ed-482a-9041-528effe547d5",
   "metadata": {},
   "outputs": [],
   "source": [
    "# implement with posProbScores(guesslist)\n",
    "\n",
    "def wordle_posProb(guesslist):\n",
    "    tries = 1\n",
    "    score = [-1, -1, -1, -1, -1]\n",
    "\n",
    "    for i in np.arange(0,20):\n",
    "\n",
    "        if i==0:\n",
    "            guess=\"slate\"\n",
    "        else:\n",
    "            WordScores = posProbScores(guesslist)\n",
    "\n",
    "            # what words have the highest score?\n",
    "            maxidx=np.where(WordScores==np.max(WordScores))\n",
    "            maxidx=maxidx[0]\n",
    "            maxidx=rand.choice(maxidx)\n",
    "\n",
    "            # choose one of highest-scoring words\n",
    "            guess = guesslist[maxidx]\n",
    "\n",
    "        score = score_word(ans, guess)\n",
    "\n",
    "        if score != [1, 1, 1, 1, 1]:\n",
    "            tries += 1\n",
    "            guesslist = remove_words(score, guess, guesslist)\n",
    "\n",
    "        elif score == [1, 1, 1, 1, 1]:\n",
    "            guesslist = remove_words(score, guess, guesslist)\n",
    "            return tries, guesslist\n",
    "            break\n",
    "                  "
   ]
  },
  {
   "cell_type": "code",
   "execution_count": 20,
   "id": "f8b95400-dc1f-43a2-83f5-e7ac56a85448",
   "metadata": {},
   "outputs": [],
   "source": [
    "tries_posprob=np.zeros(600)\n",
    "for i in np.arange(0,600):\n",
    "    \n",
    "    ans=rand.choice(anslist)\n",
    "    ans=convert_str(ans)\n",
    "\n",
    "    [numtry, answer]=wordle_posProb(guesslist)\n",
    "\n",
    "    tries_posprob[i]=numtry"
   ]
  },
  {
   "cell_type": "code",
   "execution_count": 21,
   "id": "af57a286-cc74-4c2c-b41b-969414fe9070",
   "metadata": {},
   "outputs": [
    {
     "name": "stdout",
     "output_type": "stream",
     "text": [
      "4.915\n",
      "4.581666666666667\n"
     ]
    },
    {
     "data": {
      "text/plain": [
       "<matplotlib.legend.Legend at 0x7fe6727c5b80>"
      ]
     },
     "execution_count": 21,
     "metadata": {},
     "output_type": "execute_result"
    },
    {
     "data": {
      "image/png": "[encoded data removed]",
      "text/plain": [
       "<Figure size 432x288 with 2 Axes>"
      ]
     },
     "metadata": {
      "needs_background": "light"
     },
     "output_type": "display_data"
    }
   ],
   "source": [
    "plt.subplot(211)\n",
    "plt.hist(tries_rand)\n",
    "plt.vlines(np.mean(tries_rand),0,200,color='black',label=np.round(np.mean(tries_rand),2))\n",
    "plt.title('Number of tries to solve Wordle with completely random guessing')\n",
    "print(np.mean(tries_rand))\n",
    "plt.legend()\n",
    "  \n",
    "plt.subplot(212)\n",
    "plt.hist(tries_posprob)\n",
    "plt.vlines(np.mean(tries_posprob),0,200,color='black',label=np.round(np.mean(tries_posprob),2))\n",
    "plt.title('Number of tries to solve Wordle with positional probability schema')\n",
    "print(np.mean(tries_posprob))\n",
    "plt.tight_layout()\n",
    "plt.legend()"
   ]
  },
  {
   "cell_type": "code",
   "execution_count": null,
   "id": "93bc2b26-52c5-44f9-9199-bbfdf13b8f8a",
   "metadata": {},
   "outputs": [],
   "source": []
  }
 ],
 "metadata": {
  "kernelspec": {
   "display_name": "Python 3",
   "language": "python",
   "name": "python3"
  },
  "language_info": {
   "codemirror_mode": {
    "name": "ipython",
    "version": 3
   },
   "file_extension": ".py",
   "mimetype": "text/x-python",
   "name": "python",
   "nbconvert_exporter": "python",
   "pygments_lexer": "ipython3",
   "version": "3.8.8"
  }
 },
 "nbformat": 4,
 "nbformat_minor": 5
}
